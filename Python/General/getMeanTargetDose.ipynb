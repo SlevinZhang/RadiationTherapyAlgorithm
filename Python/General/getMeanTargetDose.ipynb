{
 "cells": [
  {
   "cell_type": "code",
   "execution_count": 1,
   "metadata": {},
   "outputs": [],
   "source": [
    "# import statements\n",
    "import numpy as np\n",
    "import dicom\n",
    "import cv2 \n",
    "import matplotlib.pyplot as plt\n",
    "from collections import defaultdict\n",
    "import scipy.misc as misc\n",
    "import sys\n",
    "import os\n",
    "sys.path.append(\"..\")\n",
    "from AlgoEngine.utils import getMeanTargetDose, getImageBlock, getROINumber, getContours"
   ]
  },
  {
   "cell_type": "markdown",
   "metadata": {},
   "source": [
    "## Inputs to Function + Function\n",
    "\n",
    "We combine both input and function for testing reasons- we test  this function by determining what the max dose mean is."
   ]
  },
  {
   "cell_type": "code",
   "execution_count": 2,
   "metadata": {},
   "outputs": [],
   "source": [
    "base = '/home/radiation/RadiationTherapyDecisionSupport/data/'\n",
    "StudyID = 'UCLA_PR_6'\n",
    "structureset = dicom.read_file(base + StudyID + '/structureset.dcm')"
   ]
  },
  {
   "cell_type": "code",
   "execution_count": 3,
   "metadata": {},
   "outputs": [],
   "source": [
    "dose_data = dicom.read_file(base + StudyID + \"/dose.dcm\")\n",
    "dose_grid = np.array(dose_data.pixel_array)\n",
    "\n",
    "x_spacing = np.array(dose_data.PixelSpacing[0]).astype(np.uint8)\n",
    "y_spacing = np.array(dose_data.PixelSpacing[1]).astype(np.uint8)"
   ]
  },
  {
   "cell_type": "code",
   "execution_count": 4,
   "metadata": {},
   "outputs": [],
   "source": [
    "dose_z = float(dose_data.ImagePositionPatient[2])\n",
    "ctFilenames = [fl for fl in os.listdir(base + StudyID) if 'CT.' in fl]\n",
    "ct_sample = dicom.read_file(base + StudyID + '/' + ctFilenames[0])\n",
    "block_shape = (ct_sample.Rows, ct_sample.Columns, len(ctFilenames))\n",
    "\n",
    "ct_coords = None\n",
    "\n",
    "slice_position_z = np.zeros((len(ctFilenames))).astype(np.float32) # Input to Function\n",
    "\n",
    "for i, fl in enumerate(ctFilenames):\n",
    "    slice_position_z[i] = dicom.read_file(base + StudyID + '/' + fl).ImagePositionPatient[2]\n",
    "    ct_struct = dicom.read_file(base + StudyID + '/' + fl)\n",
    "    if(float(ct_struct.ImagePositionPatient[2]) == dose_z):\n",
    "        ct_coords = ct_struct.ImagePositionPatient\n",
    "        ct_spacing = ct_struct.PixelSpacing\n",
    "                            \n",
    "slice_position_z = np.sort(slice_position_z)[::-1]"
   ]
  },
  {
   "cell_type": "code",
   "execution_count": 5,
   "metadata": {},
   "outputs": [],
   "source": [
    "x0 = float(dose_data.ImagePositionPatient[0])- float(ct_coords[0])\n",
    "x0 = int(round(x0 / float(ct_spacing[0])))\n",
    "y0 = float(dose_data.ImagePositionPatient[1])- float(ct_coords[1])\n",
    "y0 = int(round(y0 / float(ct_spacing[1])))\n",
    "\n",
    "DoseGridScaling = dose_data.DoseGridScaling\n",
    "_, sopUID = getImageBlock(StudyID, base)"
   ]
  },
  {
   "cell_type": "code",
   "execution_count": 6,
   "metadata": {},
   "outputs": [
    {
     "name": "stdout",
     "output_type": "stream",
     "text": [
      "Rectum: 0.0\n",
      "BODY: 0.0209558\n",
      "Lt Femrl Head: 0.0\n",
      "PTV1_40Gy: 0.0\n",
      "PTV2_35Gy: 0.000822446\n",
      "PTV3_30Gy: 0.000761941\n",
      "Bladder: 0.0122627\n",
      "Anus: 0.0\n",
      "Penile Bulb: 0.0\n",
      "Urethra: 0.000646637\n",
      "Rt Femrl Head: 0.000269305\n",
      "Seed1: 0.0\n",
      "Seed2: 0.00239527\n",
      "Seed3: 0.0\n",
      "Z_PTV2opti: 0.00107983\n",
      "ring: 0.00150879\n",
      "Combined: 0.000324989\n",
      "z_PTV3opti: 0.000736779\n"
     ]
    }
   ],
   "source": [
    "dose_max = -1\n",
    "dose_max_name = \"\"\n",
    "for n in range(0, len(structureset.StructureSetROISequence)):\n",
    "    ROI_NUM = n\n",
    "\n",
    "    roiNumPlanes = len(structureset.ROIContourSequence[ROI_NUM].ContourSequence) \n",
    "\n",
    "    contour_data = {} # Input to function\n",
    "    image_orientation = {} # Input to function\n",
    "    image_position = {} # Input to function\n",
    "    pixel_spacing = {} # Input to function\n",
    "\n",
    "    for index in range(0, roiNumPlanes):\n",
    "\n",
    "        imageSOP = structureset.ROIContourSequence[ROI_NUM].ContourSequence[index].ContourImageSequence[0].ReferencedSOPInstanceUID\n",
    "\n",
    "        planeContourData = np.array(structureset.ROIContourSequence[ROI_NUM].ContourSequence[index].ContourData)\n",
    "        planeContourData = planeContourData.reshape(planeContourData.shape[0] // 3 , 3)\n",
    "\n",
    "        contour_data[imageSOP] = planeContourData\n",
    "        imagei = dicom.read_file(base + StudyID + '/CT.' + imageSOP + '.dcm')\n",
    "\n",
    "        image_orientation[imageSOP] = imagei.ImageOrientationPatient\n",
    "        image_position[imageSOP] = imagei.ImagePositionPatient\n",
    "        pixel_spacing[imageSOP] = imagei.PixelSpacing\n",
    "    \n",
    "    _, ptv_roi_block = getContours(block_shape, slice_position_z, contour_data, image_orientation, image_position, pixel_spacing)\n",
    "    dose_mean = getMeanTargetDose(ptv_roi_block, block_shape, dose_grid, DoseGridScaling, x0, y0, x_spacing, y_spacing, sopUID)\n",
    "    \n",
    "    print(structureset.StructureSetROISequence[ROI_NUM].ROIName + \": \" + str(dose_mean))\n",
    "    \n",
    "    \n",
    "    \n",
    "    if dose_mean > dose_max and structureset.StructureSetROISequence[ROI_NUM].ROIName != 'BODY':\n",
    "        dose_max_name = structureset.StructureSetROISequence[ROI_NUM].ROIName\n",
    "        dose_max = dose_mean"
   ]
  },
  {
   "cell_type": "markdown",
   "metadata": {},
   "source": [
    "## Testing Function\n",
    "\n",
    "We display the max non-body dose mean (and expect that this will occur in a PTV region)"
   ]
  },
  {
   "cell_type": "code",
   "execution_count": 7,
   "metadata": {},
   "outputs": [
    {
     "data": {
      "text/plain": [
       "'Bladder'"
      ]
     },
     "execution_count": 7,
     "metadata": {},
     "output_type": "execute_result"
    }
   ],
   "source": [
    "dose_max_name"
   ]
  }
 ],
 "metadata": {
  "kernelspec": {
   "display_name": "Python 3",
   "language": "python",
   "name": "python3"
  },
  "language_info": {
   "codemirror_mode": {
    "name": "ipython",
    "version": 3
   },
   "file_extension": ".py",
   "mimetype": "text/x-python",
   "name": "python",
   "nbconvert_exporter": "python",
   "pygments_lexer": "ipython3",
   "version": "3.5.2"
  }
 },
 "nbformat": 4,
 "nbformat_minor": 2
}
