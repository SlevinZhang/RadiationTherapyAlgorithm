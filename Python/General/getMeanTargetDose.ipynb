{
 "cells": [
  {
   "cell_type": "code",
   "execution_count": 1,
   "metadata": {},
   "outputs": [],
   "source": [
    "# import statements\n",
    "import numpy as np\n",
    "import dicom\n",
    "import cv2 \n",
    "import matplotlib.pyplot as plt\n",
    "from collections import defaultdict\n",
    "import scipy.misc as misc\n",
    "import sys\n",
    "import os\n",
    "sys.path.append(\"..\")\n",
    "from AlgoEngine.utils import getMeanTargetDose, getImageBlock, getROINumber, getContours"
   ]
  },
  {
   "cell_type": "markdown",
   "metadata": {},
   "source": [
    "## Inputs to Function"
   ]
  },
  {
   "cell_type": "code",
   "execution_count": 2,
   "metadata": {},
   "outputs": [],
   "source": [
    "base = '/home/radiation/RadiationTherapyDecisionSupport/data/'\n",
    "StudyID = 'UCLA_PR_5'\n",
    "structureset = dicom.read_file(base + StudyID + '/structureset.dcm')"
   ]
  },
  {
   "cell_type": "code",
   "execution_count": 3,
   "metadata": {},
   "outputs": [],
   "source": [
    "dose_data = dicom.read_file(base + StudyID + \"/dose.dcm\")\n",
    "dose_grid = np.array(dose_data.pixel_array)\n",
    "\n",
    "x_spacing = np.array(dose_data.PixelSpacing[0]).astype(np.uint8)\n",
    "y_spacing = np.array(dose_data.PixelSpacing[1]).astype(np.uint8)"
   ]
  },
  {
   "cell_type": "code",
   "execution_count": 4,
   "metadata": {},
   "outputs": [],
   "source": [
    "dose_z = float(dose_data.ImagePositionPatient[2])\n",
    "ctFilenames = [fl for fl in os.listdir(base + StudyID) if 'CT.' in fl]\n",
    "ct_sample = dicom.read_file(base + StudyID + '/' + ctFilenames[0])\n",
    "block_shape = (ct_sample.Rows, ct_sample.Columns, len(ctFilenames))\n",
    "\n",
    "ct_coords = None\n",
    "\n",
    "slice_position_z = np.zeros((len(ctFilenames))).astype(np.float32) # Input to Function\n",
    "\n",
    "for i, fl in enumerate(ctFilenames):\n",
    "    slice_position_z[i] = dicom.read_file(base + StudyID + '/' + fl).ImagePositionPatient[2]\n",
    "    ct_struct = dicom.read_file(base + StudyID + '/' + fl)\n",
    "    if(float(ct_struct.ImagePositionPatient[2]) == dose_z):\n",
    "        ct_coords = ct_struct.ImagePositionPatient\n",
    "        ct_spacing = ct_struct.PixelSpacing\n",
    "                            \n",
    "slice_position_z = np.sort(slice_position_z)[::-1]"
   ]
  },
  {
   "cell_type": "code",
   "execution_count": 5,
   "metadata": {},
   "outputs": [],
   "source": [
    "x0 = float(dose_data.ImagePositionPatient[0])- float(ct_coords[0])\n",
    "x0 = int(round(x0 / float(ct_spacing[0])))\n",
    "y0 = float(dose_data.ImagePositionPatient[1])- float(ct_coords[1])\n",
    "y0 = int(round(y0 / float(ct_spacing[1])))\n",
    "\n",
    "DoseGridScaling = dose_data.DoseGridScaling\n",
    "imageBlock, sopUID = getImageBlock(StudyID, base)"
   ]
  },
  {
   "cell_type": "code",
   "execution_count": 6,
   "metadata": {},
   "outputs": [],
   "source": [
    "ROI_NUM = getROINumber(structureset, 'PTV')\n",
    "\n",
    "roiNumPlanes = len(structureset.ROIContourSequence[ROI_NUM].ContourSequence) \n",
    "\n",
    "contour_data = {} # Input to function\n",
    "image_orientation = {} # Input to function\n",
    "image_position = {} # Input to function\n",
    "pixel_spacing = {} # Input to function\n",
    "\n",
    "for index in range(0, roiNumPlanes):\n",
    "    \n",
    "    imageSOP = structureset.ROIContourSequence[ROI_NUM].ContourSequence[index].ContourImageSequence[0].ReferencedSOPInstanceUID\n",
    "    \n",
    "    planeContourData = np.array(structureset.ROIContourSequence[ROI_NUM].ContourSequence[index].ContourData)\n",
    "    planeContourData = planeContourData.reshape(planeContourData.shape[0] // 3 , 3)\n",
    "    \n",
    "    contour_data[imageSOP] = planeContourData\n",
    "    imagei = dicom.read_file(base + StudyID + '/CT.' + imageSOP + '.dcm')\n",
    "    \n",
    "    image_orientation[imageSOP] = imagei.ImageOrientationPatient\n",
    "    image_position[imageSOP] = imagei.ImagePositionPatient\n",
    "    pixel_spacing[imageSOP] = imagei.PixelSpacing"
   ]
  },
  {
   "cell_type": "code",
   "execution_count": 7,
   "metadata": {},
   "outputs": [],
   "source": [
    "_, ptv_roi_block = getContours(block_shape, slice_position_z, contour_data, image_orientation, image_position, pixel_spacing)"
   ]
  },
  {
   "cell_type": "markdown",
   "metadata": {},
   "source": [
    "## Function"
   ]
  },
  {
   "cell_type": "code",
   "execution_count": 8,
   "metadata": {},
   "outputs": [],
   "source": [
    "dose_mean = getMeanTargetDose(ptv_roi_block, block_shape, dose_grid, DoseGridScaling, x0, y0, x_spacing, y_spacing, sopUID)"
   ]
  },
  {
   "cell_type": "markdown",
   "metadata": {},
   "source": [
    "## Testing Function\n",
    "\n",
    "We display the dose mean as we lack a way to validate the code"
   ]
  },
  {
   "cell_type": "code",
   "execution_count": 9,
   "metadata": {},
   "outputs": [
    {
     "data": {
      "text/plain": [
       "0.56002593"
      ]
     },
     "execution_count": 9,
     "metadata": {},
     "output_type": "execute_result"
    }
   ],
   "source": [
    "dose_mean"
   ]
  }
 ],
 "metadata": {
  "kernelspec": {
   "display_name": "Python 3",
   "language": "python",
   "name": "python3"
  },
  "language_info": {
   "codemirror_mode": {
    "name": "ipython",
    "version": 3
   },
   "file_extension": ".py",
   "mimetype": "text/x-python",
   "name": "python",
   "nbconvert_exporter": "python",
   "pygments_lexer": "ipython3",
   "version": "3.5.2"
  }
 },
 "nbformat": 4,
 "nbformat_minor": 2
}
