{
 "cells": [
  {
   "cell_type": "code",
   "execution_count": 1,
   "metadata": {},
   "outputs": [],
   "source": [
    "import dicom\n",
    "import os\n",
    "import numpy as np\n",
    "import cv2"
   ]
  },
  {
   "cell_type": "markdown",
   "metadata": {},
   "source": [
    "## Generating Inputs to Function"
   ]
  },
  {
   "cell_type": "code",
   "execution_count": 2,
   "metadata": {},
   "outputs": [],
   "source": [
    "BASE_DIR = '/home/radiation/RadiationTherapyDecisionSupport/data/'\n",
    "PatientID = 'UCLA_PR_5'\n",
    "ROI_NUM = 0\n",
    "\n",
    "ctFilenames = [fl for fl in os.listdir(BASE_DIR + PatientID) if 'CT.' in fl]\n",
    "numImages = len(ctFilenames)\n",
    "\n",
    "sampleCTImage = dicom.read_file(BASE_DIR + PatientID + '/' + ctFilenames[0])\n",
    "width = sampleCTImage.Columns\n",
    "height = sampleCTImage.Rows\n",
    "\n",
    "block_shape = (width, height, numImages) # Input to function"
   ]
  },
  {
   "cell_type": "code",
   "execution_count": 3,
   "metadata": {},
   "outputs": [],
   "source": [
    "structureset = dicom.read_file(BASE_DIR + PatientID + '/structureset.dcm')\n",
    "roiNumPlanes = len(structureset.ROIContourSequence[ROI_NUM].ContourSequence) # Input to function\n",
    "\n",
    "contourData = {} # Input to function\n",
    "image_orientation = {} # Input to function\n",
    "image_position = {} # Input to function\n",
    "pixel_spacing = {} # Input to function\n",
    "\n",
    "for index in range(0, roiNumPlanes):\n",
    "    planeContourData = np.array(structureset.ROIContourSequence[ROI_NUM].ContourSequence[index].ContourData)\n",
    "    planeContourData = planeContourData.reshape(planeContourData.shape[0] // 3 , 3)\n",
    "    z = planeContourData[0, 2] # All z coordinates in a plane are the same\n",
    "    \n",
    "    contourData[z] = planeContourData\n",
    "    \n",
    "    imageSOP = structureset.ROIContourSequence[ROI_NUM].ContourSequence[index].ContourImageSequence[0].ReferencedSOPInstanceUID\n",
    "    imagei = dicom.read_file(BASE_DIR + PatientID + '/CT.' + imageSOP + '.dcm')\n",
    "    \n",
    "    image_orientation[z] = imagei.ImageOrientationPatient\n",
    "    image_position[z] = imagei.ImagePositionPatient\n",
    "    pixel_spacing[z] = imagei.PixelSpacing\n",
    "    "
   ]
  },
  {
   "cell_type": "markdown",
   "metadata": {},
   "source": [
    "## Function"
   ]
  },
  {
   "cell_type": "code",
   "execution_count": 5,
   "metadata": {},
   "outputs": [
    {
     "ename": "IndexError",
     "evalue": "only integers, slices (`:`), ellipsis (`...`), numpy.newaxis (`None`) and integer or boolean arrays are valid indices",
     "output_type": "error",
     "traceback": [
      "\u001b[0;31m---------------------------------------------------------------------------\u001b[0m",
      "\u001b[0;31mIndexError\u001b[0m                                Traceback (most recent call last)",
      "\u001b[0;32m<ipython-input-5-a6e7b452e3ba>\u001b[0m in \u001b[0;36m<module>\u001b[0;34m()\u001b[0m\n\u001b[1;32m     31\u001b[0m         \u001b[0mcol_coordinates\u001b[0m\u001b[0;34m[\u001b[0m\u001b[0mcount\u001b[0m\u001b[0;34m]\u001b[0m \u001b[0;34m=\u001b[0m \u001b[0mnp\u001b[0m\u001b[0;34m.\u001b[0m\u001b[0mround\u001b[0m\u001b[0;34m(\u001b[0m\u001b[0mv\u001b[0m\u001b[0;34m[\u001b[0m\u001b[0;36m1\u001b[0m\u001b[0;34m]\u001b[0m\u001b[0;34m)\u001b[0m\u001b[0;34m\u001b[0m\u001b[0m\n\u001b[1;32m     32\u001b[0m \u001b[0;34m\u001b[0m\u001b[0m\n\u001b[0;32m---> 33\u001b[0;31m         \u001b[0mcontour_block\u001b[0m\u001b[0;34m[\u001b[0m\u001b[0mrow_coordinates\u001b[0m\u001b[0;34m[\u001b[0m\u001b[0mcount\u001b[0m\u001b[0;34m]\u001b[0m\u001b[0;34m,\u001b[0m \u001b[0mcol_coordinates\u001b[0m\u001b[0;34m[\u001b[0m\u001b[0mcount\u001b[0m\u001b[0;34m]\u001b[0m\u001b[0;34m,\u001b[0m \u001b[0mnp\u001b[0m\u001b[0;34m.\u001b[0m\u001b[0margwhere\u001b[0m\u001b[0;34m(\u001b[0m\u001b[0msorted_indices\u001b[0m \u001b[0;34m==\u001b[0m \u001b[0mz_coor\u001b[0m\u001b[0;34m)\u001b[0m\u001b[0;34m[\u001b[0m\u001b[0;36m0\u001b[0m\u001b[0;34m]\u001b[0m\u001b[0;34m]\u001b[0m \u001b[0;34m=\u001b[0m \u001b[0;36m1\u001b[0m\u001b[0;34m\u001b[0m\u001b[0m\n\u001b[0m\u001b[1;32m     34\u001b[0m \u001b[0;34m\u001b[0m\u001b[0m\n\u001b[1;32m     35\u001b[0m         \u001b[0mcount\u001b[0m \u001b[0;34m+=\u001b[0m \u001b[0;36m1\u001b[0m\u001b[0;34m\u001b[0m\u001b[0m\n",
      "\u001b[0;31mIndexError\u001b[0m: only integers, slices (`:`), ellipsis (`...`), numpy.newaxis (`None`) and integer or boolean arrays are valid indices"
     ]
    }
   ],
   "source": [
    "sorted_indices = np.array(sorted(contourData))\n",
    "count = 0\n",
    "\n",
    "contour_block = np.zeros((block_shape)).astype(np.int)\n",
    "roi_block = np.zeros((block_shape)).astype(np.int)\n",
    "\n",
    "for z_coor in sorted_indices:\n",
    "    row_coordinates = np.zeros((contourData[z_coor].shape[0]))\n",
    "    col_coordinates = np.zeros((contourData[z_coor].shape[0]))\n",
    "    \n",
    "    for n in range(0, contourData[z_coor].shape[0]):\n",
    "        px = contourData[z_coor][n, 0]\n",
    "        py = contourData[z_coor][n, 1]\n",
    "        \n",
    "        xx = image_orientation[z_coor][0]\n",
    "        xy = image_orientation[z_coor][1]\n",
    "        yx = image_orientation[z_coor][3]\n",
    "        yy = image_orientation[z_coor][4]\n",
    "        \n",
    "        sx = image_position[z_coor][0]\n",
    "        sy = image_position[z_coor][1]\n",
    "        \n",
    "        delJ = pixel_spacing[z_coor][0]\n",
    "        delI = pixel_spacing[z_coor][1]\n",
    "        \n",
    "        A = np.array([[xx * delI, yx * delJ], [xy*delI, yy*delJ]])\n",
    "        b = np.array([px - sx, py - sy])\n",
    "        \n",
    "        v = np.linalg.solve(A, b)\n",
    "        row_coordinates[count] = np.round(v[0])\n",
    "        col_coordinates[count] = np.round(v[1])\n",
    "        \n",
    "        contour_block[row_coordinates[count], col_coordinates[count], np.argwhere(sorted_indices == z_coor)[0][0]] = 1\n",
    "        \n",
    "        count += 1\n"
   ]
  },
  {
   "cell_type": "code",
   "execution_count": 7,
   "metadata": {},
   "outputs": [
    {
     "data": {
      "text/plain": [
       "0"
      ]
     },
     "execution_count": 7,
     "metadata": {},
     "output_type": "execute_result"
    }
   ],
   "source": []
  },
  {
   "cell_type": "code",
   "execution_count": null,
   "metadata": {},
   "outputs": [],
   "source": []
  }
 ],
 "metadata": {
  "kernelspec": {
   "display_name": "Python 3",
   "language": "python",
   "name": "python3"
  },
  "language_info": {
   "codemirror_mode": {
    "name": "ipython",
    "version": 3
   },
   "file_extension": ".py",
   "mimetype": "text/x-python",
   "name": "python",
   "nbconvert_exporter": "python",
   "pygments_lexer": "ipython3",
   "version": "3.5.2"
  }
 },
 "nbformat": 4,
 "nbformat_minor": 2
}
