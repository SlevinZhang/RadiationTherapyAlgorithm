{
 "cells": [
  {
   "cell_type": "code",
   "execution_count": 4,
   "metadata": {},
   "outputs": [],
   "source": [
    "import dicom\n",
    "import os\n",
    "import numpy as np\n",
    "from skimage.draw import polygon\n",
    "import matplotlib.pyplot as plt\n",
    "from getContours import getContours"
   ]
  },
  {
   "cell_type": "markdown",
   "metadata": {},
   "source": [
    "## Generating Inputs to Function"
   ]
  },
  {
   "cell_type": "code",
   "execution_count": 5,
   "metadata": {},
   "outputs": [],
   "source": [
    "BASE_DIR = '/home/radiation/RadiationTherapyDecisionSupport/data/'\n",
    "PatientID = 'UCLA_PR_5'\n",
    "ROI_NUM = 0\n",
    "\n",
    "ctFilenames = [fl for fl in os.listdir(BASE_DIR + PatientID) if 'CT.' in fl]\n",
    "numImages = len(ctFilenames)\n",
    "\n",
    "sampleCTImage = dicom.read_file(BASE_DIR + PatientID + '/' + ctFilenames[0])\n",
    "width = sampleCTImage.Columns\n",
    "height = sampleCTImage.Rows\n",
    "\n",
    "block_shape = (width, height, numImages) # Input to function\n",
    "slice_position_z = np.zeros((numImages)).astype(np.float32) # Input to Function\n",
    "\n",
    "for i, fl in enumerate(ctFilenames):\n",
    "    slice_position_z[i] = dicom.read_file(BASE_DIR + PatientID + '/' + fl).ImagePositionPatient[2]\n",
    "    \n",
    "    \n",
    "    "
   ]
  },
  {
   "cell_type": "code",
   "execution_count": 6,
   "metadata": {},
   "outputs": [],
   "source": [
    "structureset = dicom.read_file(BASE_DIR + PatientID + '/structureset.dcm')\n",
    "roiNumPlanes = len(structureset.ROIContourSequence[ROI_NUM].ContourSequence) \n",
    "\n",
    "contour_data = {} # Input to function\n",
    "image_orientation = {} # Input to function\n",
    "image_position = {} # Input to function\n",
    "pixel_spacing = {} # Input to function\n",
    "\n",
    "for index in range(0, roiNumPlanes):\n",
    "    \n",
    "    imageSOP = structureset.ROIContourSequence[ROI_NUM].ContourSequence[index].ContourImageSequence[0].ReferencedSOPInstanceUID\n",
    "    \n",
    "    planeContourData = np.array(structureset.ROIContourSequence[ROI_NUM].ContourSequence[index].ContourData)\n",
    "    planeContourData = planeContourData.reshape(planeContourData.shape[0] // 3 , 3)\n",
    "    \n",
    "    contour_data[imageSOP] = planeContourData\n",
    "    imagei = dicom.read_file(BASE_DIR + PatientID + '/CT.' + imageSOP + '.dcm')\n",
    "    \n",
    "    image_orientation[imageSOP] = imagei.ImageOrientationPatient\n",
    "    image_position[imageSOP] = imagei.ImagePositionPatient\n",
    "    pixel_spacing[imageSOP] = imagei.PixelSpacing\n",
    "    "
   ]
  },
  {
   "cell_type": "markdown",
   "metadata": {},
   "source": [
    "## Function\n",
    "\n",
    "We call our created function, getContours, and generate the results as described in the docstring."
   ]
  },
  {
   "cell_type": "code",
   "execution_count": 7,
   "metadata": {},
   "outputs": [
    {
     "ename": "NameError",
     "evalue": "name 'contour_data' is not defined",
     "output_type": "error",
     "traceback": [
      "\u001b[0;31m---------------------------------------------------------------------------\u001b[0m",
      "\u001b[0;31mNameError\u001b[0m                                 Traceback (most recent call last)",
      "\u001b[0;32m<ipython-input-7-4069449af941>\u001b[0m in \u001b[0;36m<module>\u001b[0;34m()\u001b[0m\n\u001b[0;32m----> 1\u001b[0;31m \u001b[0mcontour_block\u001b[0m\u001b[0;34m,\u001b[0m \u001b[0mroi_block\u001b[0m \u001b[0;34m=\u001b[0m \u001b[0mgetContours\u001b[0m\u001b[0;34m(\u001b[0m\u001b[0mblock_shape\u001b[0m\u001b[0;34m,\u001b[0m \u001b[0mslice_position_z\u001b[0m\u001b[0;34m,\u001b[0m \u001b[0mcontour_data\u001b[0m\u001b[0;34m,\u001b[0m \u001b[0mimage_orientaton\u001b[0m\u001b[0;34m,\u001b[0m \u001b[0mimage_position\u001b[0m\u001b[0;34m,\u001b[0m \u001b[0mpixel_spacing\u001b[0m\u001b[0;34m)\u001b[0m\u001b[0;34m\u001b[0m\u001b[0m\n\u001b[0m",
      "\u001b[0;31mNameError\u001b[0m: name 'contour_data' is not defined"
     ]
    }
   ],
   "source": [
    "contour_block, roi_block = getContours(block_shape, slice_position_z, contour_data, image_orientaton, image_position, pixel_spacing)\n"
   ]
  },
  {
   "cell_type": "markdown",
   "metadata": {},
   "source": [
    "## Testing\n",
    "\n",
    "We now draw some sample contours on images to confirm the functions work as intended. First, we render a sample image of a contour (the contour is in red)."
   ]
  },
  {
   "cell_type": "code",
   "execution_count": null,
   "metadata": {},
   "outputs": [],
   "source": [
    "sequence_index = 0\n",
    "imageSOP = structureset.ROIContourSequence[ROI_NUM].ContourSequence[sequence_index].ContourImageSequence[0].ReferencedSOPInstanceUID\n",
    "imagei = (dicom.read_file(BASE_DIR + PatientID + '/CT.' + imageSOP + '.dcm').pixel_array).astype(np.uint8)\n",
    "z = np.array(structureset.ROIContourSequence[ROI_NUM].ContourSequence[sequence_index].ContourData)[2]\n",
    "\n",
    "index = np.argwhere(slice_position_z ==z)[0][0]\n",
    "\n",
    "rgb_image = np.zeros((imagei.shape[0], imagei.shape[1], 3)).astype(np.uint8)\n",
    "\n",
    "mask = contour_block[:, :, index]\n",
    "\n",
    "for chan in range(0, 3):\n",
    "    rgb_image[:, :, chan] = imagei\n",
    "    if chan == 0:\n",
    "        rgb_image[mask == 1, chan] = 255\n",
    "    else:\n",
    "        rgb_image[mask == 1, chan] = 0 \n",
    "\n",
    "plt.imshow(rgb_image, cmap='gray')\n",
    "plt.show()\n"
   ]
  },
  {
   "cell_type": "markdown",
   "metadata": {},
   "source": [
    "Next, we render an image with the filled in contour (ROI)."
   ]
  },
  {
   "cell_type": "code",
   "execution_count": null,
   "metadata": {},
   "outputs": [],
   "source": [
    "sequence_index = 0\n",
    "imageSOP = structureset.ROIContourSequence[ROI_NUM].ContourSequence[sequence_index].ContourImageSequence[0].ReferencedSOPInstanceUID\n",
    "imagei = (dicom.read_file(BASE_DIR + PatientID + '/CT.' + imageSOP + '.dcm').pixel_array).astype(np.uint8)\n",
    "z = np.array(structureset.ROIContourSequence[ROI_NUM].ContourSequence[sequence_index].ContourData)[2]\n",
    "\n",
    "index = np.argwhere(slice_position_z ==z)[0][0]\n",
    "\n",
    "rgb_image = np.zeros((imagei.shape[0], imagei.shape[1], 3)).astype(np.uint8)\n",
    "\n",
    "mask = roi_block[:, :, index]\n",
    "\n",
    "for chan in range(0, 3):\n",
    "    rgb_image[:, :, chan] = imagei\n",
    "    if chan == 0:\n",
    "        rgb_image[mask == 1, chan] = 255\n",
    "    else:\n",
    "        rgb_image[mask == 1, chan] = 0 \n",
    "\n",
    "plt.imshow(rgb_image, cmap='gray')\n",
    "plt.show()"
   ]
  }
 ],
 "metadata": {
  "kernelspec": {
   "display_name": "Python 3",
   "language": "python",
   "name": "python3"
  },
  "language_info": {
   "codemirror_mode": {
    "name": "ipython",
    "version": 3
   },
   "file_extension": ".py",
   "mimetype": "text/x-python",
   "name": "python",
   "nbconvert_exporter": "python",
   "pygments_lexer": "ipython3",
   "version": "3.5.2"
  }
 },
 "nbformat": 4,
 "nbformat_minor": 2
}
