{
 "cells": [
  {
   "cell_type": "code",
   "execution_count": 2,
   "metadata": {},
   "outputs": [],
   "source": [
    "# import statements\n",
    "import numpy as np\n",
    "import dicom\n",
    "import cv2 \n",
    "import matplotlib.pyplot as plt"
   ]
  },
  {
   "cell_type": "markdown",
   "metadata": {},
   "source": [
    "extract data"
   ]
  },
  {
   "cell_type": "code",
   "execution_count": 3,
   "metadata": {},
   "outputs": [],
   "source": [
    "base = '/home/radiation/RadiationTherapyDecisionSupport/data/'\n",
    "file_folder = 'UCLA_PR_5/'\n",
    "\n",
    "structureset = dicom.read_file(base + file_folder + 'structureset.dcm')"
   ]
  },
  {
   "cell_type": "code",
   "execution_count": 4,
   "metadata": {},
   "outputs": [],
   "source": [
    "dose_data = dicom.read_file(base + file_folder + \"dose.dcm\")"
   ]
  },
  {
   "cell_type": "code",
   "execution_count": 5,
   "metadata": {},
   "outputs": [],
   "source": [
    "dose_grid = np.array(dose_data.pixel_array)"
   ]
  },
  {
   "cell_type": "code",
   "execution_count": 6,
   "metadata": {},
   "outputs": [
    {
     "name": "stdout",
     "output_type": "stream",
     "text": [
      "(136, 206, 317)\n"
     ]
    }
   ],
   "source": [
    "dose_grid = np.swapaxes(np.swapaxes(dose_grid, 0, 2), 0, 1)\n",
    "print(dose_grid.shape)"
   ]
  },
  {
   "cell_type": "code",
   "execution_count": 7,
   "metadata": {},
   "outputs": [],
   "source": [
    "dose_grid = dose_grid * dose_data.DoseGridScaling"
   ]
  },
  {
   "cell_type": "code",
   "execution_count": 8,
   "metadata": {},
   "outputs": [
    {
     "name": "stdout",
     "output_type": "stream",
     "text": [
      "(136, 206, 1, 317)\n"
     ]
    }
   ],
   "source": [
    "dose_grid = np.expand_dims(dose_grid, axis=2)\n",
    "print(dose_grid.shape)"
   ]
  },
  {
   "cell_type": "code",
   "execution_count": 9,
   "metadata": {},
   "outputs": [
    {
     "name": "stdout",
     "output_type": "stream",
     "text": [
      "(136, 206, 3, 317)\n"
     ]
    }
   ],
   "source": [
    "dose_grid = np.repeat(dose_grid, 3, axis=2)\n",
    "print(dose_grid.shape)"
   ]
  },
  {
   "cell_type": "code",
   "execution_count": 10,
   "metadata": {},
   "outputs": [],
   "source": [
    "maxDose = np.max(dose_grid)"
   ]
  },
  {
   "cell_type": "code",
   "execution_count": 11,
   "metadata": {},
   "outputs": [],
   "source": [
    "dose_grid = dose_grid/maxDose\n",
    "#print(np.unique(dose_grid))"
   ]
  },
  {
   "cell_type": "code",
   "execution_count": 12,
   "metadata": {},
   "outputs": [],
   "source": [
    "isodoseValues = np.array([40, 50, 60, 70, 80, 90, 95])"
   ]
  },
  {
   "cell_type": "code",
   "execution_count": 13,
   "metadata": {},
   "outputs": [],
   "source": [
    "doseBlocks = np.zeros(dose_grid.shape).astype(np.uint8)"
   ]
  },
  {
   "cell_type": "code",
   "execution_count": null,
   "metadata": {},
   "outputs": [],
   "source": [
    "for n in range(0, 1): #len(isodoseValues)):\n",
    "    tempDoseMask = np.zeros(dose_grid.shape).astype(np.uint8)\n",
    "    doseOutline = np.zeros(dose_grid.shape).astype(np.uint8)\n",
    "    tempDoseMask[dose_grid > isodoseValues[n]*0.01] = 1 #removed maxDose factor\n",
    "    #print(np.unique(tempDoseMask))\n",
    "    #tempDoseGrid = np.array(dose_grid[:, :, channel, j].astype(np.float64))\n",
    "    #print(np.unique(tempDoseGrid))\n",
    "    \n",
    "    for j in range(0, dose_grid.shape[3]):\n",
    "        for channel in range(0, 3):\n",
    "            doseOutline[:,:,channel,j], contours, hierarchy = cv2.findContours(tempDoseMask, cv2.RETR_TREE, cv2.CHAIN_APPROX_SIMPLE) \n",
    "            \n",
    "            temp_array = np.zeros(doseOutline[:,:,channel,j].shape).astype(np.uint8)\n",
    "            \n",
    "            cv2.drawContours(temp_array, contours, -1, 255, 1)\n",
    "            temp_array[temp_array==255] = isodoseValues[n]\n",
    "            doseBlocks[:,:,channel,j] += temp_array;   "
   ]
  },
  {
   "cell_type": "code",
   "execution_count": null,
   "metadata": {},
   "outputs": [],
   "source": [
    "plt.imshow(doseBlocks[:,:,:,0], cmap=plt.cm.gray)\n",
    "plt.show()"
   ]
  },
  {
   "cell_type": "code",
   "execution_count": null,
   "metadata": {},
   "outputs": [],
   "source": [
    "print(np.unique(doseBlocks))"
   ]
  }
 ],
 "metadata": {
  "kernelspec": {
   "display_name": "Python 3",
   "language": "python",
   "name": "python3"
  },
  "language_info": {
   "codemirror_mode": {
    "name": "ipython",
    "version": 3
   },
   "file_extension": ".py",
   "mimetype": "text/x-python",
   "name": "python",
   "nbconvert_exporter": "python",
   "pygments_lexer": "ipython3",
   "version": "3.5.2"
  }
 },
 "nbformat": 4,
 "nbformat_minor": 2
}
