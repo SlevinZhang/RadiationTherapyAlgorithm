{
 "cells": [
  {
   "cell_type": "code",
   "execution_count": 27,
   "metadata": {},
   "outputs": [],
   "source": [
    "# import statements\n",
    "import numpy as np\n",
    "import dicom\n",
    "import cv2 \n",
    "import matplotlib.pyplot as plt"
   ]
  },
  {
   "cell_type": "markdown",
   "metadata": {},
   "source": [
    "extract data"
   ]
  },
  {
   "cell_type": "code",
   "execution_count": 28,
   "metadata": {},
   "outputs": [],
   "source": [
    "base = '/home/radiation/RadiationTherapyDecisionSupport/data/'\n",
    "file_folder = 'UCLA_PR_5/'\n",
    "\n",
    "structureset = dicom.read_file(base + file_folder + 'structureset.dcm')"
   ]
  },
  {
   "cell_type": "code",
   "execution_count": 29,
   "metadata": {},
   "outputs": [],
   "source": [
    "dose_data = dicom.read_file(base + file_folder + \"dose.dcm\")"
   ]
  },
  {
   "cell_type": "code",
   "execution_count": 30,
   "metadata": {},
   "outputs": [],
   "source": [
    "dose_grid = np.array(dose_data.pixel_array)"
   ]
  },
  {
   "cell_type": "code",
   "execution_count": 31,
   "metadata": {},
   "outputs": [
    {
     "name": "stdout",
     "output_type": "stream",
     "text": [
      "(136, 206, 317)\n"
     ]
    }
   ],
   "source": [
    "dose_grid = np.swapaxes(np.swapaxes(dose_grid, 0, 2), 0, 1)\n",
    "print(dose_grid.shape)"
   ]
  },
  {
   "cell_type": "code",
   "execution_count": 32,
   "metadata": {},
   "outputs": [],
   "source": [
    "dose_grid = dose_grid * dose_data.DoseGridScaling"
   ]
  },
  {
   "cell_type": "code",
   "execution_count": 33,
   "metadata": {},
   "outputs": [
    {
     "name": "stdout",
     "output_type": "stream",
     "text": [
      "(136, 206, 1, 317)\n"
     ]
    }
   ],
   "source": [
    "dose_grid = np.expand_dims(dose_grid, axis=2)\n",
    "print(dose_grid.shape)"
   ]
  },
  {
   "cell_type": "code",
   "execution_count": 34,
   "metadata": {},
   "outputs": [
    {
     "name": "stdout",
     "output_type": "stream",
     "text": [
      "(136, 206, 3, 317)\n"
     ]
    }
   ],
   "source": [
    "dose_grid = np.repeat(dose_grid, 3, axis=2)\n",
    "print(dose_grid.shape)"
   ]
  },
  {
   "cell_type": "code",
   "execution_count": 35,
   "metadata": {},
   "outputs": [],
   "source": [
    "maxDose = np.max(dose_grid)"
   ]
  },
  {
   "cell_type": "code",
   "execution_count": 36,
   "metadata": {},
   "outputs": [],
   "source": [
    "dose_grid = dose_grid/maxDose\n",
    "#print(np.unique(dose_grid))"
   ]
  },
  {
   "cell_type": "code",
   "execution_count": 37,
   "metadata": {},
   "outputs": [],
   "source": [
    "isodoseValues = np.array([40, 50, 60, 70, 80, 90, 95])"
   ]
  },
  {
   "cell_type": "code",
   "execution_count": 38,
   "metadata": {},
   "outputs": [],
   "source": [
    "doseBlocks = np.zeros(dose_grid.shape).astype(np.uint8)"
   ]
  },
  {
   "cell_type": "code",
   "execution_count": 39,
   "metadata": {},
   "outputs": [],
   "source": [
    "for n in range(0, len(isodoseValues)):\n",
    "        \n",
    "    tempDoseMask = np.zeros(dose_grid.shape).astype(np.uint8)\n",
    "    doseOutline = np.zeros(dose_grid.shape).astype(np.uint8)\n",
    "\n",
    "    doseMask = dose_grid > isodoseValues[n]*0.01 # removed maxDose \n",
    "    tempDoseMask[doseMask] = 1;\n",
    "\n",
    "    for j in range(0, dose_grid.shape[3]):\n",
    "        for channel in range(0, 3):\n",
    "            temp_temp_mask = np.array(tempDoseMask[:,:,channel,j]).astype(np.uint8)\n",
    "            doseOutline[:,:,channel,j], contours, hierarchy = cv2.findContours(temp_temp_mask, cv2.RETR_TREE, cv2.CHAIN_APPROX_SIMPLE)\n",
    "\n",
    "            temp_array = np.zeros(doseOutline[:,:,channel,j].shape).astype(np.uint8)\n",
    "\n",
    "            cv2.drawContours(temp_array, contours, -1, 255, 1)\n",
    "            temp_mask = temp_array == 255\n",
    "            temp_array[temp_mask] = 255 * isodoseValues[n] / 100;\n",
    "            doseBlocks[:,:,channel,j][temp_mask] = temp_array[temp_mask];  "
   ]
  },
  {
   "cell_type": "code",
   "execution_count": 40,
   "metadata": {},
   "outputs": [
    {
     "data": {
      "image/png": "[encoded data removed]",
      "text/plain": [
       "<matplotlib.figure.Figure at 0x7fb6fcb299e8>"
      ]
     },
     "metadata": {},
     "output_type": "display_data"
    }
   ],
   "source": [
    "showed = False\n",
    "n=0\n",
    "while not showed:\n",
    "    if np.sum(doseBlocks[:,:,:,n]) != 0:\n",
    "        plt.imshow(doseBlocks[:,:,:,n])\n",
    "        showed=True\n",
    "    n += 1\n",
    "plt.show()\n",
    "    "
   ]
  },
  {
   "cell_type": "code",
   "execution_count": 41,
   "metadata": {},
   "outputs": [
    {
     "name": "stdout",
     "output_type": "stream",
     "text": [
      "[  0 102 127 153 178 204 229 242]\n"
     ]
    }
   ],
   "source": [
    "print(np.unique(doseBlocks))"
   ]
  }
 ],
 "metadata": {
  "kernelspec": {
   "display_name": "Python 3",
   "language": "python",
   "name": "python3"
  },
  "language_info": {
   "codemirror_mode": {
    "name": "ipython",
    "version": 3
   },
   "file_extension": ".py",
   "mimetype": "text/x-python",
   "name": "python",
   "nbconvert_exporter": "python",
   "pygments_lexer": "ipython3",
   "version": "3.5.2"
  }
 },
 "nbformat": 4,
 "nbformat_minor": 2
}
