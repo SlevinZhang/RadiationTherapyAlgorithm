{
 "cells": [
  {
   "cell_type": "code",
   "execution_count": 1,
   "metadata": {},
   "outputs": [],
   "source": [
    "from getDistance import getDistance\n",
    "from getElevation import getElevation\n",
    "from getCentroid import getCentroid\n",
    "from getAzimuth import getAzimuth"
   ]
  },
  {
   "cell_type": "code",
   "execution_count": 2,
   "metadata": {},
   "outputs": [],
   "source": [
    "import numpy as np\n",
    "import dicom\n",
    "import sys\n",
    "sys.path.append('..')\n",
    "import os\n",
    "from ovh import getOVHDistances, getHistogram, getNormalizedHistogram\n",
    "from utils import getVolume, getContours\n",
    "from math import sqrt\n",
    "import time\n",
    "start_time = time.time() # For runtime test\n",
    "import matplotlib.pyplot as plt"
   ]
  },
  {
   "cell_type": "markdown",
   "metadata": {},
   "source": [
    "## Inputs to Function"
   ]
  },
  {
   "cell_type": "code",
   "execution_count": 3,
   "metadata": {},
   "outputs": [],
   "source": [
    "BASE_DIR = '/home/radiation/RadiationTherapyDecisionSupport/data/'\n",
    "PatientID = 'UCLA_PR_5'\n",
    "\n",
    "ctFilenames = [fl for fl in os.listdir(BASE_DIR + PatientID) if 'CT.' in fl]\n",
    "numImages = len(ctFilenames)\n",
    "\n",
    "sampleCTImage = dicom.read_file(BASE_DIR + PatientID + '/' + ctFilenames[0])\n",
    "width = sampleCTImage.Columns\n",
    "height = sampleCTImage.Rows\n",
    "row_spacing = float(sampleCTImage.PixelSpacing[0])\n",
    "column_spacing = float(sampleCTImage.PixelSpacing[1])\n",
    "slice_spacing = float(sampleCTImage.SliceThickness)\n",
    "\n",
    "block_shape = (width, height, numImages)\n",
    "slice_position_z = np.zeros((numImages)).astype(np.float32) \n",
    "\n",
    "for i, fl in enumerate(ctFilenames):\n",
    "    slice_position_z[i] = dicom.read_file(BASE_DIR + PatientID + '/' + fl).ImagePositionPatient[2]"
   ]
  },
  {
   "cell_type": "code",
   "execution_count": 4,
   "metadata": {},
   "outputs": [],
   "source": [
    "structureset = dicom.read_file(BASE_DIR + PatientID + '/structureset.dcm')\n",
    "PTV_ROI_NUM = -1\n",
    "OAR_ROI_NUM = -1\n",
    "\n",
    "for n in range(0, len(structureset.StructureSetROISequence)):\n",
    "    if structureset.StructureSetROISequence[n].ROIName == 'PTV':\n",
    "        PTV_ROI_NUM = structureset.StructureSetROISequence[n].ROINumber\n",
    "    elif structureset.StructureSetROISequence[n].ROIName == 'Bladder':\n",
    "        OAR_ROI_NUM = structureset.StructureSetROISequence[n].ROINumber"
   ]
  },
  {
   "cell_type": "code",
   "execution_count": 5,
   "metadata": {},
   "outputs": [],
   "source": [
    "roiNumPlanes = len(structureset.ROIContourSequence[PTV_ROI_NUM].ContourSequence) \n",
    "\n",
    "contour_data = {} \n",
    "image_orientation = {} \n",
    "image_position = {} \n",
    "pixel_spacing = {} \n",
    "\n",
    "for index in range(0, roiNumPlanes):\n",
    "    \n",
    "    imageSOP = structureset.ROIContourSequence[PTV_ROI_NUM].ContourSequence[index].ContourImageSequence[0].ReferencedSOPInstanceUID\n",
    "    \n",
    "    planeContourData = np.array(structureset.ROIContourSequence[PTV_ROI_NUM].ContourSequence[index].ContourData)\n",
    "    planeContourData = planeContourData.reshape(planeContourData.shape[0] // 3 , 3)\n",
    "    \n",
    "    contour_data[imageSOP] = planeContourData\n",
    "    imagei = dicom.read_file(BASE_DIR + PatientID + '/CT.' + imageSOP + '.dcm')\n",
    "    \n",
    "    image_orientation[imageSOP] = imagei.ImageOrientationPatient\n",
    "    image_position[imageSOP] = imagei.ImagePositionPatient\n",
    "    pixel_spacing[imageSOP] = imagei.PixelSpacing\n",
    "ptv_contour_block, ptv_roi_block = getContours(block_shape, slice_position_z, contour_data, image_orientation, image_position, pixel_spacing)"
   ]
  },
  {
   "cell_type": "code",
   "execution_count": 6,
   "metadata": {},
   "outputs": [],
   "source": [
    "roiNumPlanes = len(structureset.ROIContourSequence[OAR_ROI_NUM].ContourSequence) \n",
    "\n",
    "contour_data = {}\n",
    "image_orientation = {}\n",
    "image_position = {} \n",
    "pixel_spacing = {}\n",
    "\n",
    "for index in range(0, roiNumPlanes):\n",
    "    \n",
    "    imageSOP = structureset.ROIContourSequence[OAR_ROI_NUM].ContourSequence[index].ContourImageSequence[0].ReferencedSOPInstanceUID\n",
    "    planeContourData = np.array(structureset.ROIContourSequence[OAR_ROI_NUM].ContourSequence[index].ContourData)\n",
    "    planeContourData = planeContourData.reshape(planeContourData.shape[0] // 3 , 3)\n",
    "    \n",
    "    contour_data[imageSOP] = planeContourData\n",
    "    imagei = dicom.read_file(BASE_DIR + PatientID + '/CT.' + imageSOP + '.dcm')\n",
    "    \n",
    "    image_orientation[imageSOP] = imagei.ImageOrientationPatient\n",
    "    image_position[imageSOP] = imagei.ImagePositionPatient\n",
    "    pixel_spacing[imageSOP] = imagei.PixelSpacing\n",
    "_, oar_roi_block = getContours(block_shape, slice_position_z, contour_data, image_orientation, image_position, pixel_spacing)"
   ]
  },
  {
   "cell_type": "code",
   "execution_count": 7,
   "metadata": {},
   "outputs": [],
   "source": [
    "centroid = getCentroid(oar_roi_block)"
   ]
  },
  {
   "cell_type": "code",
   "execution_count": 8,
   "metadata": {},
   "outputs": [],
   "source": [
    "elevation = np.zeros(np.count_nonzero(ptv_roi_block))\n",
    "distance = np.zeros(np.count_nonzero(ptv_roi_block))\n",
    "azimuth = np.zeros(np.count_nonzero(ptv_roi_block))\n",
    "count = 0"
   ]
  },
  {
   "cell_type": "code",
   "execution_count": 9,
   "metadata": {},
   "outputs": [],
   "source": [
    "for i in range(0, ptv_roi_block.shape[0]):\n",
    "    for j in range(0, ptv_roi_block.shape[1]):\n",
    "        for k in range(0, ptv_roi_block.shape[2]):\n",
    "            if ptv_roi_block[i,j,k] == 1:\n",
    "                elevation[count] = getElevation(centroid, [i,j,k])\n",
    "                distance[count] = getDistance(centroid, [i,j,k])\n",
    "                azimuth[count] = getAzimuth(centroid, [i,j,k])\n",
    "                count = count+1;"
   ]
  },
  {
   "cell_type": "code",
   "execution_count": 10,
   "metadata": {},
   "outputs": [],
   "source": [
    "n_bins = 10;\n",
    "elevation_max = np.max(elevation)\n",
    "elevation_min = np.min(elevation)\n",
    "distance_max = np.max(distance)\n",
    "distance_min = np.min(distance)\n",
    "azimuth_max = np.max(azimuth)\n",
    "azimuth_min = np.min(azimuth)\n",
    "elevation_delta = (elevation_max-elevation_min)/n_bins\n",
    "distance_delta = (distance_max-distance_min)/n_bins\n",
    "azimuth_delta = (azimuth_max-azimuth_min)/n_bins"
   ]
  },
  {
   "cell_type": "code",
   "execution_count": 19,
   "metadata": {},
   "outputs": [],
   "source": [
    "elevation_bins = np.concatenate((np.arange(elevation_min,elevation_max,elevation_delta), \n",
    "                                 np.expand_dims(np.array(elevation_max), axis=0)))\n",
    "distance_bins = np.concatenate((np.arange(distance_min,distance_max,distance_delta), \n",
    "                                np.expand_dims(np.array(distance_max), axis=0)))\n",
    "azimuth_bins = np.concatenate((np.arange(azimuth_min,azimuth_max,azimuth_delta), \n",
    "                               np.expand_dims(np.array(azimuth_max), axis=0)))\n",
    "amounts = np.zeros((elevation_bins.shape[0], distance_bins.shape[0], azimuth_bins.shape[0]))"
   ]
  },
  {
   "cell_type": "code",
   "execution_count": 22,
   "metadata": {},
   "outputs": [],
   "source": [
    "for i in range(0, elevation_bins.shape[0] - 1):\n",
    "    for j in range(0, distance_bins.shape[0] - 1):\n",
    "        for k in range(0, azimuth_bins.shape[0] - 1):\n",
    "            amounts[i,j,k] = np.count_nonzero((elevation >= elevation_bins[i]) & (elevation< elevation_bins[i+1]) & (distance >= distance_bins[j]) & (distance < distance_bins[j+1]) & (azimuth >= azimuth_bins[k]) & (azimuth < azimuth_bins[k+1]))"
   ]
  },
  {
   "cell_type": "code",
   "execution_count": 23,
   "metadata": {},
   "outputs": [],
   "source": [
    "amounts = amounts/getVolume(ptv_roi_block)"
   ]
  }
 ],
 "metadata": {
  "kernelspec": {
   "display_name": "Python 3",
   "language": "python",
   "name": "python3"
  },
  "language_info": {
   "codemirror_mode": {
    "name": "ipython",
    "version": 3
   },
   "file_extension": ".py",
   "mimetype": "text/x-python",
   "name": "python",
   "nbconvert_exporter": "python",
   "pygments_lexer": "ipython3",
   "version": "3.5.2"
  }
 },
 "nbformat": 4,
 "nbformat_minor": 2
}
