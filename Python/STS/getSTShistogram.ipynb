{
 "cells": [
  {
   "cell_type": "code",
   "execution_count": 1,
   "metadata": {},
   "outputs": [],
   "source": [
    "import numpy as np\n",
    "import dicom\n",
    "import sys\n",
    "sys.path.append('..')\n",
    "import os\n",
    "from AlgoEngine.utils import getVolume, getContours\n",
    "from AlgoEngine.sts import getSTSHistogram\n",
    "from math import sqrt\n",
    "import time\n",
    "import matplotlib.pyplot as plt"
   ]
  },
  {
   "cell_type": "markdown",
   "metadata": {},
   "source": [
    "## Inputs to Function"
   ]
  },
  {
   "cell_type": "code",
   "execution_count": 2,
   "metadata": {},
   "outputs": [],
   "source": [
    "BASE_DIR = '/home/radiation/RadiationTherapyDecisionSupport/data/'\n",
    "PatientID = 'UCLA_PR_5'\n",
    "\n",
    "ctFilenames = [fl for fl in os.listdir(BASE_DIR + PatientID) if 'CT.' in fl]\n",
    "numImages = len(ctFilenames)\n",
    "\n",
    "sampleCTImage = dicom.read_file(BASE_DIR + PatientID + '/' + ctFilenames[0])\n",
    "width = sampleCTImage.Columns\n",
    "height = sampleCTImage.Rows\n",
    "row_spacing = float(sampleCTImage.PixelSpacing[0])\n",
    "column_spacing = float(sampleCTImage.PixelSpacing[1])\n",
    "slice_spacing = float(sampleCTImage.SliceThickness)\n",
    "\n",
    "block_shape = (width, height, numImages)\n",
    "slice_position_z = np.zeros((numImages)).astype(np.float32) \n",
    "\n",
    "for i, fl in enumerate(ctFilenames):\n",
    "    slice_position_z[i] = dicom.read_file(BASE_DIR + PatientID + '/' + fl).ImagePositionPatient[2]"
   ]
  },
  {
   "cell_type": "code",
   "execution_count": 3,
   "metadata": {},
   "outputs": [],
   "source": [
    "structureset = dicom.read_file(BASE_DIR + PatientID + '/structureset.dcm')\n",
    "PTV_ROI_NUM = -1\n",
    "OAR_ROI_NUM = -1\n",
    "\n",
    "for n in range(0, len(structureset.StructureSetROISequence)):\n",
    "    if structureset.StructureSetROISequence[n].ROIName == 'PTV':\n",
    "        PTV_ROI_NUM = structureset.StructureSetROISequence[n].ROINumber\n",
    "    elif structureset.StructureSetROISequence[n].ROIName == 'Bladder':\n",
    "        OAR_ROI_NUM = structureset.StructureSetROISequence[n].ROINumber"
   ]
  },
  {
   "cell_type": "code",
   "execution_count": 4,
   "metadata": {},
   "outputs": [],
   "source": [
    "roiNumPlanes = len(structureset.ROIContourSequence[PTV_ROI_NUM].ContourSequence) \n",
    "\n",
    "contour_data = {} \n",
    "image_orientation = {} \n",
    "image_position = {} \n",
    "pixel_spacing = {} \n",
    "\n",
    "for index in range(0, roiNumPlanes):\n",
    "    \n",
    "    imageSOP = structureset.ROIContourSequence[PTV_ROI_NUM].ContourSequence[index].ContourImageSequence[0].ReferencedSOPInstanceUID\n",
    "    \n",
    "    planeContourData = np.array(structureset.ROIContourSequence[PTV_ROI_NUM].ContourSequence[index].ContourData)\n",
    "    planeContourData = planeContourData.reshape(planeContourData.shape[0] // 3 , 3)\n",
    "    \n",
    "    contour_data[imageSOP] = planeContourData\n",
    "    imagei = dicom.read_file(BASE_DIR + PatientID + '/CT.' + imageSOP + '.dcm')\n",
    "    \n",
    "    image_orientation[imageSOP] = imagei.ImageOrientationPatient\n",
    "    image_position[imageSOP] = imagei.ImagePositionPatient\n",
    "    pixel_spacing[imageSOP] = imagei.PixelSpacing\n",
    "ptv_contour_block, ptv_roi_block = getContours(block_shape, slice_position_z, contour_data, image_orientation, image_position, pixel_spacing)"
   ]
  },
  {
   "cell_type": "code",
   "execution_count": 5,
   "metadata": {},
   "outputs": [],
   "source": [
    "roiNumPlanes = len(structureset.ROIContourSequence[OAR_ROI_NUM].ContourSequence) \n",
    "\n",
    "contour_data = {}\n",
    "image_orientation = {}\n",
    "image_position = {} \n",
    "pixel_spacing = {}\n",
    "\n",
    "for index in range(0, roiNumPlanes):\n",
    "    \n",
    "    imageSOP = structureset.ROIContourSequence[OAR_ROI_NUM].ContourSequence[index].ContourImageSequence[0].ReferencedSOPInstanceUID\n",
    "    planeContourData = np.array(structureset.ROIContourSequence[OAR_ROI_NUM].ContourSequence[index].ContourData)\n",
    "    planeContourData = planeContourData.reshape(planeContourData.shape[0] // 3 , 3)\n",
    "    \n",
    "    contour_data[imageSOP] = planeContourData\n",
    "    imagei = dicom.read_file(BASE_DIR + PatientID + '/CT.' + imageSOP + '.dcm')\n",
    "    \n",
    "    image_orientation[imageSOP] = imagei.ImageOrientationPatient\n",
    "    image_position[imageSOP] = imagei.ImagePositionPatient\n",
    "    pixel_spacing[imageSOP] = imagei.PixelSpacing\n",
    "_, oar_roi_block = getContours(block_shape, slice_position_z, contour_data, image_orientation, image_position, pixel_spacing)"
   ]
  },
  {
   "cell_type": "code",
   "execution_count": 6,
   "metadata": {},
   "outputs": [],
   "source": [
    "n_bins = 10"
   ]
  },
  {
   "cell_type": "markdown",
   "metadata": {},
   "source": [
    "## Function Goes Here"
   ]
  },
  {
   "cell_type": "code",
   "execution_count": 7,
   "metadata": {},
   "outputs": [],
   "source": [
    "elevation_bins, distance_bins, azimuth_bins, amounts, cum_amounts = getSTSHistogram(ptv_roi_block, oar_roi_block, n_bins)"
   ]
  },
  {
   "cell_type": "markdown",
   "metadata": {},
   "source": [
    "## Testing the Function\n",
    "\n",
    "We assert that the probabilities sum up to 0 by the last point in the matrix. \n",
    "\n",
    "We also plot histograms for the 2D cases (e.g. elevation vs percent, distance vs percent, etc)"
   ]
  },
  {
   "cell_type": "code",
   "execution_count": 8,
   "metadata": {},
   "outputs": [
    {
     "name": "stdout",
     "output_type": "stream",
     "text": [
      "True\n"
     ]
    }
   ],
   "source": [
    "print(cum_amounts[elevation_bins.shape[0] - 2, distance_bins.shape[0] - 2, azimuth_bins.shape[0] - 2] == 1.0)"
   ]
  },
  {
   "cell_type": "code",
   "execution_count": 12,
   "metadata": {},
   "outputs": [
    {
     "data": {
      "image/png": "[encoded data removed]",
      "text/plain": [
       "<matplotlib.figure.Figure at 0x7f7b43799f98>"
      ]
     },
     "metadata": {},
     "output_type": "display_data"
    }
   ],
   "source": [
    "bin_vals = elevation_bins\n",
    "bin_amts = np.cumsum(np.sum(np.sum(amounts, axis=1), axis=1))\n",
    "plt.bar(np.arange(n_bins), bin_amts, align='center', color='blue')\n",
    "plt.xticks(np.arange(n_bins), np.around(bin_vals[1:], decimals=1))\n",
    "plt.ylabel(\"% of Pixels with elevation <= to value\")\n",
    "plt.title(\"STS elevation Graph\")\n",
    "plt.show()"
   ]
  },
  {
   "cell_type": "code",
   "execution_count": 13,
   "metadata": {},
   "outputs": [
    {
     "data": {
      "image/png": "[encoded data removed]",
      "text/plain": [
       "<matplotlib.figure.Figure at 0x7f7b3755db00>"
      ]
     },
     "metadata": {},
     "output_type": "display_data"
    }
   ],
   "source": [
    "bin_vals = distance_bins\n",
    "bin_amts = np.cumsum(np.sum(np.sum(amounts, axis=2), axis=0))\n",
    "plt.bar(np.arange(n_bins), bin_amts, align='center', color='blue')\n",
    "plt.xticks(np.arange(n_bins), np.around(bin_vals[1:], decimals=1))\n",
    "plt.ylabel(\"% of Pixels with distance <= to value\")\n",
    "plt.title(\"STS Distance Graph\")\n",
    "plt.show()"
   ]
  },
  {
   "cell_type": "code",
   "execution_count": 14,
   "metadata": {},
   "outputs": [
    {
     "data": {
      "image/png": "[encoded data removed]",
      "text/plain": [
       "<matplotlib.figure.Figure at 0x7f7b374da400>"
      ]
     },
     "metadata": {},
     "output_type": "display_data"
    }
   ],
   "source": [
    "bin_vals = azimuth_bins\n",
    "bin_amts = np.cumsum(np.sum(np.sum(amounts, axis=1), axis=0))\n",
    "plt.bar(np.arange(n_bins), bin_amts, align='center', color='blue')\n",
    "plt.xticks(np.arange(n_bins), np.around(bin_vals[1:], decimals=1))\n",
    "plt.ylabel(\"% of Pixels with azimuth <= to value\")\n",
    "plt.title(\"STS Azimuth Graph\")\n",
    "plt.show()"
   ]
  }
 ],
 "metadata": {
  "kernelspec": {
   "display_name": "Python 3",
   "language": "python",
   "name": "python3"
  },
  "language_info": {
   "codemirror_mode": {
    "name": "ipython",
    "version": 3
   },
   "file_extension": ".py",
   "mimetype": "text/x-python",
   "name": "python",
   "nbconvert_exporter": "python",
   "pygments_lexer": "ipython3",
   "version": "3.5.2"
  }
 },
 "nbformat": 4,
 "nbformat_minor": 2
}
