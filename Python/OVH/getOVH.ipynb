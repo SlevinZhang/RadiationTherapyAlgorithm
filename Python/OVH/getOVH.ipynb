{
 "cells": [
  {
   "cell_type": "code",
   "execution_count": 1,
   "metadata": {},
   "outputs": [],
   "source": [
    "import numpy as np\n",
    "import dicom\n",
    "import sys\n",
    "sys.path.append('..')\n",
    "import os\n",
    "from AlgoEngine.ovh import getOVH\n",
    "from AlgoEngine.utils import getContours\n",
    "from math import sqrt\n",
    "import time\n",
    "start_time = time.time() # For runtime test\n",
    "import matplotlib.pyplot as plt"
   ]
  },
  {
   "cell_type": "markdown",
   "metadata": {},
   "source": [
    "## Inputs to Function"
   ]
  },
  {
   "cell_type": "code",
   "execution_count": 2,
   "metadata": {},
   "outputs": [],
   "source": [
    "BASE_DIR = '/home/radiation/RadiationTherapyDecisionSupport/data/'\n",
    "PatientID = 'UCLA_PR_5'\n",
    "n_bins = 10\n",
    "\n",
    "ctFilenames = [fl for fl in os.listdir(BASE_DIR + PatientID) if 'CT.' in fl]\n",
    "numImages = len(ctFilenames)\n",
    "\n",
    "sampleCTImage = dicom.read_file(BASE_DIR + PatientID + '/' + ctFilenames[0])\n",
    "width = sampleCTImage.Columns\n",
    "height = sampleCTImage.Rows\n",
    "row_spacing = float(sampleCTImage.PixelSpacing[0])\n",
    "column_spacing = float(sampleCTImage.PixelSpacing[1])\n",
    "slice_spacing = float(sampleCTImage.SliceThickness)\n",
    "\n",
    "block_shape = (width, height, numImages)\n",
    "slice_position_z = np.zeros((numImages)).astype(np.float32) \n",
    "\n",
    "for i, fl in enumerate(ctFilenames):\n",
    "    slice_position_z[i] = dicom.read_file(BASE_DIR + PatientID + '/' + fl).ImagePositionPatient[2]"
   ]
  },
  {
   "cell_type": "code",
   "execution_count": 3,
   "metadata": {},
   "outputs": [],
   "source": [
    "structureset = dicom.read_file(BASE_DIR + PatientID + '/structureset.dcm')\n",
    "PTV_ROI_NUM = -1\n",
    "OAR_ROI_NUM = -1\n",
    "\n",
    "for n in range(0, len(structureset.StructureSetROISequence)):\n",
    "    if structureset.StructureSetROISequence[n].ROIName == 'PTV':\n",
    "        PTV_ROI_NUM = structureset.StructureSetROISequence[n].ROINumber\n",
    "    elif structureset.StructureSetROISequence[n].ROIName == 'Bladder':\n",
    "        OAR_ROI_NUM = structureset.StructureSetROISequence[n].ROINumber"
   ]
  },
  {
   "cell_type": "code",
   "execution_count": 4,
   "metadata": {},
   "outputs": [],
   "source": [
    "roiNumPlanes = len(structureset.ROIContourSequence[PTV_ROI_NUM].ContourSequence) \n",
    "\n",
    "contour_data = {} \n",
    "image_orientation = {} \n",
    "image_position = {} \n",
    "pixel_spacing = {} \n",
    "\n",
    "for index in range(0, roiNumPlanes):\n",
    "    \n",
    "    imageSOP = structureset.ROIContourSequence[PTV_ROI_NUM].ContourSequence[index].ContourImageSequence[0].ReferencedSOPInstanceUID\n",
    "    \n",
    "    planeContourData = np.array(structureset.ROIContourSequence[PTV_ROI_NUM].ContourSequence[index].ContourData)\n",
    "    planeContourData = planeContourData.reshape(planeContourData.shape[0] // 3 , 3)\n",
    "    \n",
    "    contour_data[imageSOP] = planeContourData\n",
    "    imagei = dicom.read_file(BASE_DIR + PatientID + '/CT.' + imageSOP + '.dcm')\n",
    "    \n",
    "    image_orientation[imageSOP] = imagei.ImageOrientationPatient\n",
    "    image_position[imageSOP] = imagei.ImagePositionPatient\n",
    "    pixel_spacing[imageSOP] = imagei.PixelSpacing\n",
    "ptv_contour_block, ptv_roi_block = getContours(block_shape, slice_position_z, contour_data, image_orientation, image_position, pixel_spacing)"
   ]
  },
  {
   "cell_type": "code",
   "execution_count": 5,
   "metadata": {},
   "outputs": [],
   "source": [
    "roiNumPlanes = len(structureset.ROIContourSequence[OAR_ROI_NUM].ContourSequence) \n",
    "\n",
    "contour_data = {}\n",
    "image_orientation = {}\n",
    "image_position = {} \n",
    "pixel_spacing = {}\n",
    "\n",
    "for index in range(0, roiNumPlanes):\n",
    "    \n",
    "    imageSOP = structureset.ROIContourSequence[OAR_ROI_NUM].ContourSequence[index].ContourImageSequence[0].ReferencedSOPInstanceUID\n",
    "    planeContourData = np.array(structureset.ROIContourSequence[OAR_ROI_NUM].ContourSequence[index].ContourData)\n",
    "    planeContourData = planeContourData.reshape(planeContourData.shape[0] // 3 , 3)\n",
    "    \n",
    "    contour_data[imageSOP] = planeContourData\n",
    "    imagei = dicom.read_file(BASE_DIR + PatientID + '/CT.' + imageSOP + '.dcm')\n",
    "    \n",
    "    image_orientation[imageSOP] = imagei.ImageOrientationPatient\n",
    "    image_position[imageSOP] = imagei.ImagePositionPatient\n",
    "    pixel_spacing[imageSOP] = imagei.PixelSpacing\n",
    "_, oar_roi_block = getContours(block_shape, slice_position_z, contour_data, image_orientation, image_position, pixel_spacing)"
   ]
  },
  {
   "cell_type": "markdown",
   "metadata": {},
   "source": [
    "## Function Starts Here"
   ]
  },
  {
   "cell_type": "code",
   "execution_count": 6,
   "metadata": {},
   "outputs": [],
   "source": [
    "bin_vals, bin_amts = getOVH(oar_roi_block, ptv_contour_block, ptv_roi_block, pixel_spacing,\n",
    "                            row_spacing, column_spacing, slice_spacing, n_bins)"
   ]
  },
  {
   "cell_type": "markdown",
   "metadata": {},
   "source": [
    "## Testing\n",
    "\n",
    "We assert than the last `bin_amts` is 1.0 (100%), and we plot an OVH histogram"
   ]
  },
  {
   "cell_type": "code",
   "execution_count": 7,
   "metadata": {},
   "outputs": [
    {
     "name": "stdout",
     "output_type": "stream",
     "text": [
      "True\n"
     ]
    }
   ],
   "source": [
    "print(bin_amts[-1] == 1.0)"
   ]
  },
  {
   "cell_type": "code",
   "execution_count": 8,
   "metadata": {},
   "outputs": [
    {
     "data": {
      "image/png": "[encoded data removed]",
      "text/plain": [
       "<matplotlib.figure.Figure at 0x7fe41f1a6d68>"
      ]
     },
     "metadata": {},
     "output_type": "display_data"
    }
   ],
   "source": [
    "plt.bar(np.arange(len(bin_vals) - 1), bin_amts, align='center', color='blue')\n",
    "plt.xticks(np.arange(len(bin_vals) - 1), np.around(bin_vals[1:], decimals=1))\n",
    "plt.ylabel(\"% of Pixels with distance <= to value\")\n",
    "plt.title(\"OVH Graph\")\n",
    "plt.show()\n",
    "\n",
    "\n"
   ]
  },
  {
   "cell_type": "code",
   "execution_count": 9,
   "metadata": {},
   "outputs": [
    {
     "name": "stdout",
     "output_type": "stream",
     "text": [
      "Runtime of OVH function: 4.831936542193095 Minutes\n"
     ]
    }
   ],
   "source": [
    "print(\"Runtime of OVH function: \" + str((time.time() - start_time)/float(60)) + \" Minutes\")"
   ]
  }
 ],
 "metadata": {
  "kernelspec": {
   "display_name": "Python 3",
   "language": "python",
   "name": "python3"
  },
  "language_info": {
   "codemirror_mode": {
    "name": "ipython",
    "version": 3
   },
   "file_extension": ".py",
   "mimetype": "text/x-python",
   "name": "python",
   "nbconvert_exporter": "python",
   "pygments_lexer": "ipython3",
   "version": "3.5.2"
  }
 },
 "nbformat": 4,
 "nbformat_minor": 2
}
