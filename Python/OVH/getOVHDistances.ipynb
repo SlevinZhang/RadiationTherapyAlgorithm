{
 "cells": [
  {
   "cell_type": "code",
   "execution_count": 1,
   "metadata": {},
   "outputs": [],
   "source": [
    "import numpy as np\n",
    "import dicom\n",
    "import sys\n",
    "sys.path.append('..')\n",
    "import os\n",
    "from AlgoEngine.utils import getContours\n",
    "from AlgoEngine.ovh import getOVHDistances\n",
    "from math import sqrt"
   ]
  },
  {
   "cell_type": "markdown",
   "metadata": {},
   "source": [
    "## Inputs to Function\n",
    "\n",
    "We compute OVH distances for PTV and bladder in this test"
   ]
  },
  {
   "cell_type": "code",
   "execution_count": 2,
   "metadata": {},
   "outputs": [],
   "source": [
    "BASE_DIR = '/home/radiation/RadiationTherapyDecisionSupport/data/'\n",
    "StudyID = 'UCLA_PR_5'\n",
    "\n",
    "ctFilenames = [fl for fl in os.listdir(BASE_DIR + StudyID) if 'CT.' in fl]\n",
    "numImages = len(ctFilenames)\n",
    "\n",
    "sampleCTImage = dicom.read_file(BASE_DIR + StudyID + '/' + ctFilenames[0])\n",
    "width = sampleCTImage.Columns\n",
    "height = sampleCTImage.Rows\n",
    "row_spacing = float(sampleCTImage.PixelSpacing[0])\n",
    "column_spacing = float(sampleCTImage.PixelSpacing[1])\n",
    "slice_spacing = float(sampleCTImage.SliceThickness)\n",
    "\n",
    "block_shape = (width, height, numImages)\n",
    "slice_position_z = np.zeros((numImages)).astype(np.float32) \n",
    "\n",
    "for i, fl in enumerate(ctFilenames):\n",
    "    slice_position_z[i] = dicom.read_file(BASE_DIR + StudyID + '/' + fl).ImagePositionPatient[2]\n",
    "slice_position_z = np.sort(slice_position_z)[::-1]"
   ]
  },
  {
   "cell_type": "code",
   "execution_count": 3,
   "metadata": {},
   "outputs": [],
   "source": [
    "structureset = dicom.read_file(BASE_DIR + StudyID + '/structureset.dcm')\n",
    "PTV_ROI_NUM = -1\n",
    "OAR_ROI_NUM = -1\n",
    "\n",
    "for n in range(0, len(structureset.StructureSetROISequence)):\n",
    "    if structureset.StructureSetROISequence[n].ROIName == 'PTV':\n",
    "        PTV_ROI_NUM = structureset.StructureSetROISequence[n].ROINumber\n",
    "    elif structureset.StructureSetROISequence[n].ROIName == 'Bladder':\n",
    "        OAR_ROI_NUM = structureset.StructureSetROISequence[n].ROINumber"
   ]
  },
  {
   "cell_type": "code",
   "execution_count": 4,
   "metadata": {},
   "outputs": [],
   "source": [
    "roiNumPlanes = len(structureset.ROIContourSequence[PTV_ROI_NUM].ContourSequence) \n",
    "\n",
    "contour_data = {} \n",
    "image_orientation = {} \n",
    "image_position = {} \n",
    "pixel_spacing = {} \n",
    "\n",
    "for index in range(0, roiNumPlanes):\n",
    "    \n",
    "    imageSOP = structureset.ROIContourSequence[PTV_ROI_NUM].ContourSequence[index].ContourImageSequence[0].ReferencedSOPInstanceUID\n",
    "    \n",
    "    planeContourData = np.array(structureset.ROIContourSequence[PTV_ROI_NUM].ContourSequence[index].ContourData)\n",
    "    planeContourData = planeContourData.reshape(planeContourData.shape[0] // 3 , 3)\n",
    "    \n",
    "    contour_data[imageSOP] = planeContourData\n",
    "    imagei = dicom.read_file(BASE_DIR + StudyID + '/CT.' + imageSOP + '.dcm')\n",
    "    \n",
    "    image_orientation[imageSOP] = imagei.ImageOrientationPatient\n",
    "    image_position[imageSOP] = imagei.ImagePositionPatient\n",
    "    pixel_spacing[imageSOP] = imagei.PixelSpacing\n",
    "ptv_contour_block, ptv_roi_block = getContours(block_shape, slice_position_z, contour_data, image_orientation, image_position, pixel_spacing)"
   ]
  },
  {
   "cell_type": "code",
   "execution_count": 5,
   "metadata": {},
   "outputs": [],
   "source": [
    "roiNumPlanes = len(structureset.ROIContourSequence[OAR_ROI_NUM].ContourSequence) \n",
    "\n",
    "contour_data = {}\n",
    "image_orientation = {}\n",
    "image_position = {} \n",
    "pixel_spacing = {}\n",
    "\n",
    "for index in range(0, roiNumPlanes):\n",
    "    \n",
    "    imageSOP = structureset.ROIContourSequence[OAR_ROI_NUM].ContourSequence[index].ContourImageSequence[0].ReferencedSOPInstanceUID\n",
    "    planeContourData = np.array(structureset.ROIContourSequence[OAR_ROI_NUM].ContourSequence[index].ContourData)\n",
    "    planeContourData = planeContourData.reshape(planeContourData.shape[0] // 3 , 3)\n",
    "    \n",
    "    contour_data[imageSOP] = planeContourData\n",
    "    imagei = dicom.read_file(BASE_DIR + StudyID + '/CT.' + imageSOP + '.dcm')\n",
    "    \n",
    "    image_orientation[imageSOP] = imagei.ImageOrientationPatient\n",
    "    image_position[imageSOP] = imagei.ImagePositionPatient\n",
    "    pixel_spacing[imageSOP] = imagei.PixelSpacing\n",
    "_, oar_roi_block = getContours(block_shape, slice_position_z, contour_data, image_orientation, image_position, pixel_spacing)"
   ]
  },
  {
   "cell_type": "markdown",
   "metadata": {},
   "source": [
    "## Function Starts Here"
   ]
  },
  {
   "cell_type": "code",
   "execution_count": 6,
   "metadata": {},
   "outputs": [],
   "source": [
    "oar_dists = getOVHDistances(oar_roi_block, ptv_contour_block, ptv_roi_block, row_spacing, column_spacing, slice_spacing)"
   ]
  },
  {
   "cell_type": "markdown",
   "metadata": {},
   "source": [
    "## Testing Output\n",
    "\n",
    "Note that because we lack access to an actual validation example, we test using the assertion that for 5 random places in the OAR, there is not a place in the PTV that is closer than the marked distance. "
   ]
  },
  {
   "cell_type": "code",
   "execution_count": 7,
   "metadata": {},
   "outputs": [
    {
     "name": "stdout",
     "output_type": "stream",
     "text": [
      "True\n"
     ]
    }
   ],
   "source": [
    "oar_row, oar_col, oar_slice = np.nonzero(oar_dists)\n",
    "ptv_row, ptv_col, ptv_slice = np.nonzero(ptv_contour_block)\n",
    "\n",
    "alpha = column_spacing / row_spacing\n",
    "beta =  slice_spacing / row_spacing\n",
    "\n",
    "test_passed = True\n",
    "\n",
    "indices = np.arange(oar_row.shape[0])\n",
    "np.random.shuffle(indices)\n",
    "\n",
    "for n in range(0, 30):\n",
    "    oar_point = (oar_row[indices[n]], oar_col[indices[n]], oar_slice[indices[n]])\n",
    "    for i in range(0, ptv_row.shape[0]):\n",
    "        dist = sqrt( (oar_point[0] - ptv_row[i])**2  + \n",
    "                      alpha*(oar_point[1] - ptv_col[i])**2 + \n",
    "                      beta*(oar_point[2] - ptv_slice[i])**2)\n",
    "        \n",
    "        # allclose handles errors from comparing single precision to double precision number\n",
    "        if dist < oar_dists[oar_point] and not np.allclose(np.array(dist), np.array(oar_dists[oar_point])):\n",
    "            test_passed = False\n",
    "\n",
    "print(test_passed)"
   ]
  }
 ],
 "metadata": {
  "kernelspec": {
   "display_name": "Python 3",
   "language": "python",
   "name": "python3"
  },
  "language_info": {
   "codemirror_mode": {
    "name": "ipython",
    "version": 3
   },
   "file_extension": ".py",
   "mimetype": "text/x-python",
   "name": "python",
   "nbconvert_exporter": "python",
   "pygments_lexer": "ipython3",
   "version": "3.5.2"
  }
 },
 "nbformat": 4,
 "nbformat_minor": 2
}
