{
 "cells": [
  {
   "cell_type": "code",
   "execution_count": 2,
   "metadata": {},
   "outputs": [],
   "source": [
    "import numpy as np\n",
    "import cv2\n",
    "import dicom\n",
    "import matplotlib.pyplot as plt"
   ]
  },
  {
   "cell_type": "code",
   "execution_count": 3,
   "metadata": {},
   "outputs": [],
   "source": [
    "base = '/home/radiation/RadiationTherapyDecisionSupport/data/'\n",
    "file_folder = 'UCLA_PR_5/'\n",
    "\n",
    "dose_dcm = dicom.read_file(base + file_folder + 'dose.dcm')"
   ]
  },
  {
   "cell_type": "code",
   "execution_count": 5,
   "metadata": {},
   "outputs": [
    {
     "data": {
      "text/plain": [
       "['AccessionNumber',\n",
       " 'BitsAllocated',\n",
       " 'BitsStored',\n",
       " 'Columns',\n",
       " 'DVHSequence',\n",
       " 'DeviceSerialNumber',\n",
       " 'DoseGridScaling',\n",
       " 'DoseSummationType',\n",
       " 'DoseType',\n",
       " 'DoseUnits',\n",
       " 'EthnicGroup',\n",
       " 'FrameIncrementPointer',\n",
       " 'FrameOfReferenceUID',\n",
       " 'GridFrameOffsetVector',\n",
       " 'HighBit',\n",
       " 'ImageOrientationPatient',\n",
       " 'ImagePositionPatient',\n",
       " 'InstanceCreationDate',\n",
       " 'InstanceCreationTime',\n",
       " 'InstanceNumber',\n",
       " 'Manufacturer',\n",
       " 'ManufacturerModelName',\n",
       " 'Modality',\n",
       " 'NumberOfFrames',\n",
       " 'OtherPatientIDs',\n",
       " 'PatientBirthDate',\n",
       " 'PatientBirthTime',\n",
       " 'PatientID',\n",
       " 'PatientName',\n",
       " 'PatientSex',\n",
       " 'PhotometricInterpretation',\n",
       " 'PhysiciansOfRecord',\n",
       " 'PixelData',\n",
       " 'PixelRepresentation',\n",
       " 'PixelSpacing',\n",
       " 'PositionReferenceIndicator',\n",
       " 'RefdRTPlanSequence',\n",
       " 'RefdStructureSetSequence',\n",
       " 'ReferencedRTPlanSequence',\n",
       " 'ReferencedStructureSetSequence',\n",
       " 'ReferringPhysicianName',\n",
       " 'Rows',\n",
       " 'SOPClassUID',\n",
       " 'SOPInstanceUID',\n",
       " 'SamplesPerPixel',\n",
       " 'SeriesDescription',\n",
       " 'SeriesInstanceUID',\n",
       " 'SeriesNumber',\n",
       " 'SliceThickness',\n",
       " 'SoftwareVersions',\n",
       " 'SpecificCharacterSet',\n",
       " 'StationName',\n",
       " 'StudyDate',\n",
       " 'StudyDescription',\n",
       " 'StudyID',\n",
       " 'StudyInstanceUID',\n",
       " 'StudyTime',\n",
       " 'TissueHeterogeneityCorrection']"
      ]
     },
     "execution_count": 5,
     "metadata": {},
     "output_type": "execute_result"
    }
   ],
   "source": [
    "dose_dcm.dir()"
   ]
  },
  {
   "cell_type": "code",
   "execution_count": 16,
   "metadata": {},
   "outputs": [
    {
     "data": {
      "text/plain": [
       "['0.0', '1.5', '3', '4.5', '6', '7.5', '9', '10.5', '12', '13.5', '15', '16.5', '18', '19.5', '21', '22.5', '24', '25.5', '27', '28.5', '30', '31.5', '33', '34.5', '36', '37.5', '39', '40.5', '42', '43.5', '45', '46.5', '48', '49.5', '51', '52.5', '54', '55.5', '57', '58.5', '60', '61.5', '63', '64.5', '66', '67.5', '69', '70.5', '72', '73.5', '75', '76.5', '78', '79.5', '81', '82.5', '84', '85.5', '87', '88.5', '90', '91.5', '93', '94.5', '96', '97.5', '99', '100.5', '102', '103.5', '105', '106.5', '108', '109.5', '111', '112.5', '114', '115.5', '117', '118.5', '120', '121.5', '123', '124.5', '126', '127.5', '129', '130.5', '132', '133.5', '135', '136.5', '138', '139.5', '141', '142.5', '144', '145.5', '147', '148.5', '150', '151.5', '153', '154.5', '156', '157.5', '159', '160.5', '162', '163.5', '165', '166.5', '168', '169.5', '171', '172.5', '174', '175.5', '177', '178.5', '180', '181.5', '183', '184.5', '186', '187.5', '189', '190.5', '192', '193.5', '195', '196.5', '198', '199.5', '201', '202.5', '204', '205.5', '207', '208.5', '210', '211.5', '213', '214.5', '216', '217.5', '219', '220.5', '222', '223.5', '225', '226.5', '228', '229.5', '231', '232.5', '234', '235.5', '237', '238.5', '240', '241.5', '243', '244.5', '246', '247.5', '249', '250.5', '252', '253.5', '255', '256.5', '258', '259.5', '261', '262.5', '264', '265.5', '267', '268.5', '270', '271.5', '273', '274.5', '276', '277.5', '279', '280.5', '282', '283.5', '285', '286.5', '288', '289.5', '291', '292.5', '294', '295.5', '297', '298.5', '300', '301.5', '303', '304.5', '306', '307.5', '309', '310.5', '312', '313.5', '315', '316.5', '318', '319.5', '321', '322.5', '324', '325.5', '327', '328.5', '330', '331.5', '333', '334.5', '336', '337.5', '339', '340.5', '342', '343.5', '345', '346.5', '348', '349.5', '351', '352.5', '354', '355.5', '357', '358.5', '360', '361.5', '363', '364.5', '366', '367.5', '369', '370.5', '372', '373.5', '375', '376.5', '378', '379.5', '381', '382.5', '384', '385.5', '387', '388.5', '390', '391.5', '393', '394.5', '396', '397.5', '399', '400.5', '402', '403.5', '405', '406.5', '408', '409.5', '411', '412.5', '414', '415.5', '417', '418.5', '420', '421.5', '423', '424.5', '426', '427.5', '429', '430.5', '432', '433.5', '435', '436.5', '438', '439.5', '441', '442.5', '444', '445.5', '447', '448.5', '450', '451.5', '453', '454.5', '456', '457.5', '459', '460.5', '462', '463.5', '465', '466.5', '468', '469.5', '471', '472.5', '474']"
      ]
     },
     "execution_count": 16,
     "metadata": {},
     "output_type": "execute_result"
    }
   ],
   "source": [
    "dose_dcm.GridFrameOffsetVector"
   ]
  },
  {
   "cell_type": "code",
   "execution_count": 8,
   "metadata": {},
   "outputs": [
    {
     "data": {
      "text/plain": [
       "1"
      ]
     },
     "execution_count": 8,
     "metadata": {},
     "output_type": "execute_result"
    }
   ],
   "source": [
    "dose_dcm.SamplesPerPixel"
   ]
  },
  {
   "cell_type": "code",
   "execution_count": 5,
   "metadata": {},
   "outputs": [
    {
     "data": {
      "text/plain": [
       "(317, 136, 206)"
      ]
     },
     "execution_count": 5,
     "metadata": {},
     "output_type": "execute_result"
    }
   ],
   "source": [
    "np.array(dose_dcm.pixel_array).shape"
   ]
  },
  {
   "cell_type": "code",
   "execution_count": null,
   "metadata": {},
   "outputs": [],
   "source": []
  }
 ],
 "metadata": {
  "kernelspec": {
   "display_name": "Python 3",
   "language": "python",
   "name": "python3"
  }
 },
 "nbformat": 4,
 "nbformat_minor": 2
}
